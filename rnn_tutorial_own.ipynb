{
 "cells": [
  {
   "cell_type": "code",
   "execution_count": 101,
   "metadata": {
    "collapsed": true,
    "deletable": true,
    "editable": true
   },
   "outputs": [],
   "source": [
    "vocaburary_size = 8000\n",
    "unknown_token = 'UNKNOWN_TOKEN'\n",
    "sentence_start_token = \"SENTENCE_START\"\n",
    "sentence_end_token = \"SENTENCE_END\""
   ]
  },
  {
   "cell_type": "code",
   "execution_count": 167,
   "metadata": {
    "collapsed": true,
    "deletable": true,
    "editable": true
   },
   "outputs": [],
   "source": [
    "import csv\n",
    "import itertools\n",
    "import nltk\n",
    "import numpy as np\n",
    "import operator\n",
    "import datetime\n",
    "import sys"
   ]
  },
  {
   "cell_type": "code",
   "execution_count": 103,
   "metadata": {
    "collapsed": false,
    "deletable": true,
    "editable": true
   },
   "outputs": [
    {
     "name": "stdout",
     "output_type": "stream",
     "text": [
      "Parsed 79170 sentences.\n"
     ]
    }
   ],
   "source": [
    "# Read the csv file(open in text mode in python3) and append SENTENCE_START and SENTENCE_END tokens\n",
    "with open('reddit-comments-2015-08.csv', 'r') as f:\n",
    "    reader = csv.reader(f, skipinitialspace=True)\n",
    "    header = next(reader)\n",
    "    sentences = itertools.chain(*[nltk.sent_tokenize(x[0].lower()) for x in reader])\n",
    "    sentences = [\"%s %s %s\" % (sentence_start_token, x, sentence_end_token) for x in sentences]\n",
    "print('Parsed %d sentences.' % (len(sentences)) )"
   ]
  },
  {
   "cell_type": "code",
   "execution_count": 130,
   "metadata": {
    "collapsed": false
   },
   "outputs": [
    {
     "name": "stdout",
     "output_type": "stream",
     "text": [
      "SENTENCE_START i joined a new league this year and they have different scoring rules than i'm used to. SENTENCE_END\n"
     ]
    }
   ],
   "source": [
    "print(sentences[0])"
   ]
  },
  {
   "cell_type": "code",
   "execution_count": 105,
   "metadata": {
    "collapsed": false,
    "deletable": true,
    "editable": true
   },
   "outputs": [
    {
     "name": "stdout",
     "output_type": "stream",
     "text": [
      "Tokenized into 1716189 words\n"
     ]
    }
   ],
   "source": [
    "# Tokenize the sentences into words\n",
    "tokenized_sentences = [nltk.word_tokenize(sentence) for sentence in sentences]\n",
    "print('Tokenized into %d words' % (np.sum([len(ts) for ts in tokenized_sentences])))"
   ]
  },
  {
   "cell_type": "code",
   "execution_count": 131,
   "metadata": {
    "collapsed": false
   },
   "outputs": [
    {
     "name": "stdout",
     "output_type": "stream",
     "text": [
      "['SENTENCE_START', 'i', 'joined', 'a', 'new', 'league', 'this', 'year', 'and', 'they', 'have', 'different', 'scoring', 'rules', 'than', 'i', \"'m\", 'used', 'to', '.', 'SENTENCE_END']\n"
     ]
    }
   ],
   "source": [
    "print(tokenized_sentences[0])"
   ]
  },
  {
   "cell_type": "code",
   "execution_count": 107,
   "metadata": {
    "collapsed": false,
    "deletable": true,
    "editable": true
   },
   "outputs": [
    {
     "name": "stdout",
     "output_type": "stream",
     "text": [
      "Found  65752 unique word tokens.\n"
     ]
    }
   ],
   "source": [
    "# Count the word frequencies\n",
    "word_freq = nltk.FreqDist(itertools.chain(*tokenized_sentences))\n",
    "print('Found  %d unique word tokens.' % len(word_freq))"
   ]
  },
  {
   "cell_type": "code",
   "execution_count": 108,
   "metadata": {
    "collapsed": false
   },
   "outputs": [
    {
     "name": "stdout",
     "output_type": "stream",
     "text": [
      "[('SENTENCE_START', 79170), ('SENTENCE_END', 79170), ('.', 67455), ('the', 52338), (',', 52137), ('to', 35568), ('i', 32094), ('a', 31739), ('and', 30007), ('of', 23226)]\n"
     ]
    }
   ],
   "source": [
    "print(word_freq.most_common(10))"
   ]
  },
  {
   "cell_type": "code",
   "execution_count": 109,
   "metadata": {
    "collapsed": false,
    "deletable": true,
    "editable": true
   },
   "outputs": [
    {
     "name": "stdout",
     "output_type": "stream",
     "text": [
      "Using vocaburary size:  8000\n",
      "The least frequent word in our vocaburary is flagged and appeared 10 times.\n",
      "The 123th word is most\n",
      "The index of most is 123\n"
     ]
    }
   ],
   "source": [
    "# Get the most common words and build index_to_word and word_to_index vectors\n",
    "vocab = word_freq.most_common(vocaburary_size - 1) \n",
    "index_to_word = [x[0] for x in vocab]\n",
    "index_to_word.append(unknown_token)\n",
    "word_to_index = dict([(w, i) for (i, w) in enumerate(index_to_word)])\n",
    "print('Using vocaburary size: ', vocaburary_size)\n",
    "print('The least frequent word in our vocaburary is', vocab[-1][0], 'and appeared', vocab[-1][-1], 'times.')\n",
    "\n",
    "print('The 123th word is', index_to_word[123])\n",
    "print('The index of', index_to_word[123], 'is', word_to_index[index_to_word[123]])"
   ]
  },
  {
   "cell_type": "code",
   "execution_count": 110,
   "metadata": {
    "collapsed": false,
    "deletable": true,
    "editable": true
   },
   "outputs": [],
   "source": [
    "# Replace all words not in our vocaburary with the unknown token\n",
    "for i, sent in enumerate(tokenized_sentences):\n",
    "    tokenized_sentences[i] = [w if w in word_to_index else unknown_token for w in sent]"
   ]
  },
  {
   "cell_type": "code",
   "execution_count": 144,
   "metadata": {
    "collapsed": false,
    "deletable": true,
    "editable": true
   },
   "outputs": [
    {
     "name": "stdout",
     "output_type": "stream",
     "text": [
      "Example X_train: SENTENCE_START what are n't you understanding about this ? ! [0, 51, 27, 16, 10, 853, 53, 25, 34, 69]\n",
      "Example y_train: what are n't you understanding about this ? ! SENTENCE_END [51, 27, 16, 10, 853, 53, 25, 34, 69, 1]\n"
     ]
    }
   ],
   "source": [
    "# Create training set\n",
    "X_train = np.asarray([[word_to_index[w] for w in sent[:-1]] for sent in tokenized_sentences])\n",
    "y_train = np.asarray([[word_to_index[w] for w in sent[1:]] for sent in tokenized_sentences])\n",
    "print('Example X_train:', ' '.join([index_to_word[i] for i in X_train[17]]), X_train[17])\n",
    "print('Example y_train:', ' '.join([index_to_word[i] for i in y_train[17]]), y_train[17])"
   ]
  },
  {
   "cell_type": "code",
   "execution_count": 112,
   "metadata": {
    "collapsed": true,
    "deletable": true,
    "editable": true
   },
   "outputs": [],
   "source": [
    "# RNN paramters\n",
    "# x_t = [8000,]   equals the vocaburary size\n",
    "# o_t = [8000,]  same size as the input\n",
    "# s_t = [100,]     hidden state equals the number of time steps\n",
    "# U = [100, 8000]\n",
    "# V = [8000,100]\n",
    "# W = [100, 100]\n",
    "#\n",
    "# s_t = tanh(U * x_t + W * s_t-1)  \n",
    "# o_t = softmax(V * s_t)\n",
    "#\n",
    "# H(hidden size) = 100, C(vocaburary size) = 8000\n",
    "# total number of parametrs : U + V + W = 100 * 8000 + 8000 * 100 + 100 * 100 = 2HC + H^2"
   ]
  },
  {
   "cell_type": "code",
   "execution_count": 137,
   "metadata": {
    "collapsed": true,
    "deletable": true,
    "editable": true
   },
   "outputs": [],
   "source": [
    "def softmax(a):\n",
    "    c = np.max(a)\n",
    "    exp_a = np.exp(a - c)  # To prevent overflow\n",
    "    sum_exp_a = np.sum(exp_a)\n",
    "    return exp_a / sum_exp_a"
   ]
  },
  {
   "cell_type": "code",
   "execution_count": 170,
   "metadata": {
    "collapsed": false,
    "deletable": true,
    "editable": true
   },
   "outputs": [],
   "source": [
    "class RNNnumpy:\n",
    "    def __init__(self, word_dim, hidden_dim = 100, bptt_truncate = 4):\n",
    "        self.word_dim = word_dim\n",
    "        self.hidden_dim = hidden_dim\n",
    "        self.bptt_truncate = bptt_truncate\n",
    "        # Randomly initialize the network paramters\n",
    "        self.U = np.random.uniform(-np.sqrt(1./word_dim), np.sqrt(1./word_dim), (hidden_dim, word_dim))\n",
    "        self.V = np.random.uniform(-np.sqrt(1./hidden_dim), np.sqrt(1./hidden_dim), (word_dim, hidden_dim))\n",
    "        self.W = np.random.uniform(-np.sqrt(1./hidden_dim), np.sqrt(1./hidden_dim), (hidden_dim, hidden_dim))\n",
    "        \n",
    "    def forward_prop(self, x):\n",
    "        # The total number of  time steps\n",
    "        T = len(x)\n",
    "        # During forward propagation we save all hidden states in s because need them later.\n",
    "        # we add one additional element for the initial hidden state, which we set to 0.\n",
    "        s = np.zeros((T + 1, self.hidden_dim))\n",
    "        s[-1] = np.zeros(self.hidden_dim)\n",
    "        # The outputs at each time step\n",
    "        o = np.zeros((T, self.word_dim))\n",
    "        # for each time step\n",
    "        for t in np.arange(T):\n",
    "            # x_t is one hot vector \n",
    "            s[t] = np.tanh(self.U[:, x[t]] + self.W.dot(s[t-1]))\n",
    "            o[t] = softmax(self.V.dot(s[t]))\n",
    "        return [o, s]\n",
    "    \n",
    "    def predict(self, x):\n",
    "        o, s = self.forward_prop(x)\n",
    "        return np.argmax(o, axis=1)  # find the index of word wth max probabity (from 8000 vocaburary)\n",
    "    \n",
    "    def calculate_total_loss(self, x, y):\n",
    "        L = 0\n",
    "        # for each sentence\n",
    "        for i in np.arange(len(y)):\n",
    "            o, s = self.forward_prop(x[i])                           \n",
    "            len_sentence = len(y[i])\n",
    "            correct_word_index = y[i]\n",
    "            # we only care about our predictions of the correct words\n",
    "            correct_word_predictions = o[np.arange(len_sentence), correct_word_index]\n",
    "            # Add to the loss \n",
    "            L += -1 * np.sum(np.log(correct_word_predictions))\n",
    "        return L\n",
    "    \n",
    "    def calculate_loss(self, x, y):\n",
    "        # Number of words in our text\n",
    "        N = np.sum((len(y_i) for y_i in y))\n",
    "        L = self.calculate_total_loss(x, y)\n",
    "        return L / N \n",
    "    \n",
    "    def bptt(self, x, y):\n",
    "        # the number of time steps\n",
    "        T = len(y)\n",
    "        # forward propagation\n",
    "        o, s = self.forward_prop(x)\n",
    "        # derivative (initialized by zeros)\n",
    "        dLdU = np.zeros(self.U.shape)  # (100, 8000)\n",
    "        dLdW = np.zeros(self.W.shape)  # (100, 100)\n",
    "        dLdV = np.zeros(self.V.shape)  # (8000, 100)\n",
    "        # output\n",
    "        delta_o = o \n",
    "        delta_o[np.arange(len(y)), y] -= 1.\n",
    "        # for each output backwards\n",
    "        for t in np.arange(T)[::-1]:\n",
    "            dLdV += np.outer(delta_o[t], s[t].T)\n",
    "            # initial delta calculation dL/dz\n",
    "            delta_t = self.V.T.dot(delta_o[t]) * (1 - (s[t] ** 2))\n",
    "            # bptt\n",
    "            for bptt_step in np.arange(max(0, t - self.bptt_truncate), t+1)[::-1]:\n",
    "                #print(\"Bptt step t = %d, bptt step = %d \" % (t, bptt_step))\n",
    "                dLdW += np.outer(delta_t, s[bptt_step - 1])\n",
    "                dLdU[:, x[bptt_step]] += delta_t\n",
    "                # update delta_t for next step dL/dz at t -1 \n",
    "                delta_t = self.W.T.dot(delta_t) * (1 - s[bptt_step - 1] ** 2)\n",
    "        return [dLdU, dLdV, dLdW]\n",
    "    \n",
    "    def gradient_check(self, x, y, h=0.001, error_th=0.01):\n",
    "        # calc the grads using backprop.\n",
    "        bptt_grads = self.bptt(x, y)\n",
    "        # list of all params we want to check\n",
    "        model_params = ['U', 'V', 'W']\n",
    "        # gradient check for each params\n",
    "        for pidx, pname in enumerate(model_params):\n",
    "            # get the actual parameter value from the mode\n",
    "            parameter = operator.attrgetter(pname)(self)\n",
    "            print('gradient check for %s with size %d.' % (pname, np.prod(parameter.shape)))\n",
    "            # iterate over each element of the parameter matrix\n",
    "            it = np.nditer(parameter, flags=['multi_index'], op_flags=['readwrite'])\n",
    "            while not it.finished:\n",
    "                ix = it.multi_index\n",
    "                # save the original value\n",
    "                original_value = parameter[ix]\n",
    "                # estimate the gradient using (f(x+h) - f(x-h)) / (2*h)\n",
    "                parameter[ix] = original_value + h\n",
    "                gradplus = self.calculate_total_loss([x], [y])\n",
    "                parameter[ix] = original_value - h\n",
    "                gradminus = self.calculate_total_loss([x], [y])\n",
    "                estimated_grad = (gradplus - gradminus) / (2 * h)\n",
    "                # reset parameter to original value\n",
    "                parameter[ix] = original_value\n",
    "                # the gradient for this parameter calculated using backprop\n",
    "                backprop_grad = bptt_grads[pidx][ix]\n",
    "                # calculate the relative error (|x -y| / (|x| + |y|))\n",
    "                relative_error = np.abs(backprop_grad - estimated_grad) / (np.abs(backprop_grad) + np.abs(estimated_grad))\n",
    "                # if the error is too large fail the gradient check\n",
    "                if relative_error > error_th:\n",
    "                    print(\"gradient check error: parameter = %s, ix = %s \" %(pname, ix))\n",
    "                    print(\"+h loss =\", gradplus)\n",
    "                    print(\"-h loss=\", gradminus)\n",
    "                    print(\"estimated grad =\", estimated_grad)\n",
    "                    print(\"backprop grad=\", backprop_grad)\n",
    "                    print(\"relative error=\", relative_error)\n",
    "                    return\n",
    "                it.iternext()\n",
    "            print('gradient check for parameter %s passed.' % (pname))\n",
    "\n",
    "    # Performs one step of SGD\n",
    "    def sgd_step(self, x, y, learning_rate):\n",
    "        # calculate the grads\n",
    "        dLdU, dLdV, dLdW = self.bptt(x, y)\n",
    "        # change parameters according to grads and learning rate\n",
    "        self.U -= learning_rate * dLdU\n",
    "        self.V -= learning_rate * dLdV\n",
    "        self.W -= learning_rate * dLdW"
   ]
  },
  {
   "cell_type": "code",
   "execution_count": 171,
   "metadata": {
    "collapsed": false,
    "deletable": true,
    "editable": true
   },
   "outputs": [
    {
     "name": "stdout",
     "output_type": "stream",
     "text": [
      "(79170,)\n",
      "45 [0, 72, 63, 13, 124, 5, 26, 1121, 208, 5, 324, 3, 329, 4, 112, 32, 75, 7, 4743, 4, 8, 84, 52, 9, 7, 3151, 1014, 491, 7535, 8, 133, 49, 3092, 4, 10, 95, 51, 4, 128, 17, 37, 314, 575, 2, 40]\n",
      "11 [0, 56, 29, 16, 38, 412, 70, 211, 1151, 190, 2]\n"
     ]
    }
   ],
   "source": [
    "print(X_train.shape)\n",
    "print(len(X_train[10]), X_train[10])\n",
    "print(len(X_train[123]), X_train[123])"
   ]
  },
  {
   "cell_type": "code",
   "execution_count": 172,
   "metadata": {
    "collapsed": false,
    "deletable": true,
    "editable": true,
    "scrolled": true
   },
   "outputs": [
    {
     "name": "stdout",
     "output_type": "stream",
     "text": [
      "(45, 8000) (46, 100)\n",
      "[1284 5221 7653 7430 1013 3562 7366 6198 5028 3376 7299 6722 6892 3198 5738\n",
      " 5853 2926  261 2538 1653 3177 5376 3522  477 7051 1830 7609 6607 1201 4221\n",
      " 1900 6176 3417 3256 4864 2182 6569 2800 2752 6821 4437 7021 2864 7071 2525]\n",
      "Expected loss for random predictions: 8.98719682066\n",
      "Actual loss: 8.98742855675\n"
     ]
    }
   ],
   "source": [
    "# Try an implementation of RNNnumpy class\n",
    "np.random.seed(10)\n",
    "model = RNNnumpy(vocaburary_size)\n",
    "o, s = model.forward_prop(X_train[10])\n",
    "print(o.shape, s.shape)\n",
    "preds = model.predict(X_train[10])\n",
    "print(preds)\n",
    "\n",
    "# calculate the loss\n",
    "print('Expected loss for random predictions:', np.log(vocaburary_size))\n",
    "print('Actual loss:', model.calculate_loss(X_train[:1000], y_train[:1000]))"
   ]
  },
  {
   "cell_type": "code",
   "execution_count": 173,
   "metadata": {
    "collapsed": false
   },
   "outputs": [
    {
     "name": "stdout",
     "output_type": "stream",
     "text": [
      "gradient check for U with size 1000.\n"
     ]
    },
    {
     "name": "stderr",
     "output_type": "stream",
     "text": [
      "/Users/satojkovic/.pyenv/versions/3.6.1/lib/python3.6/site-packages/ipykernel/__main__.py:103: RuntimeWarning: invalid value encountered in double_scalars\n"
     ]
    },
    {
     "name": "stdout",
     "output_type": "stream",
     "text": [
      "gradient check for parameter U passed.\n",
      "gradient check for V with size 1000.\n",
      "gradient check for parameter V passed.\n",
      "gradient check for W with size 100.\n",
      "gradient check for parameter W passed.\n"
     ]
    }
   ],
   "source": [
    "grad_check_vocab_size = 100\n",
    "np.random.seed(10)\n",
    "model = RNNnumpy(grad_check_vocab_size, 10, bptt_truncate=1000)\n",
    "model.gradient_check([0,1,2,3], [1,2,3,4])"
   ]
  },
  {
   "cell_type": "code",
   "execution_count": 174,
   "metadata": {
    "collapsed": false
   },
   "outputs": [
    {
     "name": "stdout",
     "output_type": "stream",
     "text": [
      "1 loop, best of 3: 248 ms per loop\n"
     ]
    }
   ],
   "source": [
    "np.random.seed(10)\n",
    "model = RNNnumpy(vocaburary_size)\n",
    "%timeit model.sgd_step(X_train[10], y_train[10], 0.005)"
   ]
  },
  {
   "cell_type": "code",
   "execution_count": 175,
   "metadata": {
    "collapsed": false
   },
   "outputs": [],
   "source": [
    "# - model: The RNN model instance\n",
    "# - x_train: The training dataset\n",
    "# - y_train: The training data labels\n",
    "# - learning_rate: The initial learning rate for SGD\n",
    "# - nepoch: Number of times to iterate through over the complete dataset\n",
    "# - evaluate_loss_after: Evaluate the loss after this many epochs\n",
    "def train_with_sgd(model, x_train, y_train, learning_rate=0.005, nepoch=100, evaluate_loss_after=5):\n",
    "    losses = []\n",
    "    num_examples_seen = 0\n",
    "    for epoch in range(nepoch):\n",
    "        if epoch % evaluate_loss_after == 0:\n",
    "            loss = model.calculate_loss(x_train, y_train)\n",
    "            losses.append((num_examples_seen, loss))\n",
    "            time = datetime.datetime.now().strftime('%Y-%m-%d %H:%M:%S')\n",
    "            print('%s: loss after num_examples_seen=%d epoch=%d: %f' % (time, num_examples_seen, epoch, loss))\n",
    "            # adjust the learning rate if loss increases\n",
    "            if len(losses) > 1 and losses[-1][1] > losses[-2][1]:\n",
    "                learning_rate = learning_rate * 0.5\n",
    "                print('setting learning rate to %f' % (learning_rate))\n",
    "            sys.stdout.flush()\n",
    "        # for each training example\n",
    "        for i in range(len(y_train)):\n",
    "            # one SGD step\n",
    "            model.sgd_step(x_train[i], y_train[i], learning_rate)\n",
    "            num_examples_seen += 1"
   ]
  },
  {
   "cell_type": "code",
   "execution_count": 176,
   "metadata": {
    "collapsed": false
   },
   "outputs": [
    {
     "name": "stdout",
     "output_type": "stream",
     "text": [
      "2017-03-28 22:35:17: loss after num_examples_seen=0 epoch=0: 8.987418\n",
      "2017-03-28 22:35:30: loss after num_examples_seen=100 epoch=1: 8.976055\n",
      "2017-03-28 22:35:42: loss after num_examples_seen=200 epoch=2: 8.959715\n",
      "2017-03-28 22:35:57: loss after num_examples_seen=300 epoch=3: 8.929265\n",
      "2017-03-28 22:36:11: loss after num_examples_seen=400 epoch=4: 8.840789\n",
      "2017-03-28 22:36:24: loss after num_examples_seen=500 epoch=5: 6.748881\n",
      "2017-03-28 22:36:36: loss after num_examples_seen=600 epoch=6: 6.250084\n",
      "2017-03-28 22:36:49: loss after num_examples_seen=700 epoch=7: 5.992692\n",
      "2017-03-28 22:37:05: loss after num_examples_seen=800 epoch=8: 5.822810\n",
      "2017-03-28 22:37:20: loss after num_examples_seen=900 epoch=9: 5.704647\n"
     ]
    }
   ],
   "source": [
    "np.random.seed(10)\n",
    "model = RNNnumpy(vocaburary_size)\n",
    "losses = train_with_sgd(model, X_train[:100], y_train[:100], nepoch=10, evaluate_loss_after=1)"
   ]
  }
 ],
 "metadata": {
  "kernelspec": {
   "display_name": "Python 3",
   "language": "python",
   "name": "python3"
  },
  "language_info": {
   "codemirror_mode": {
    "name": "ipython",
    "version": 3
   },
   "file_extension": ".py",
   "mimetype": "text/x-python",
   "name": "python",
   "nbconvert_exporter": "python",
   "pygments_lexer": "ipython3",
   "version": "3.6.1"
  }
 },
 "nbformat": 4,
 "nbformat_minor": 2
}
